{
 "cells": [
  {
   "cell_type": "markdown",
   "id": "8b45041a-a18f-41b5-b1bd-0281fc03068e",
   "metadata": {},
   "source": [
    "Introduction & Setup\n",
    "\n",
    "State the notebook's purpose: perform in-depth analysis of model performance and extract actionable insights.\n",
    "Import libraries: pandas, numpy, matplotlib.pyplot, seaborn, sklearn.metrics, tensorflow.\n",
    "Load the trained model and its training history.\n",
    "\n"
   ]
  },
  {
   "cell_type": "code",
   "execution_count": null,
   "id": "9e374673-2fbe-495c-9471-ade1956fe2e7",
   "metadata": {},
   "outputs": [
    {
     "ename": "FileNotFoundError",
     "evalue": "[Errno 2] Unable to synchronously open file (unable to open file: name = 'trained_models/best_waste_classifier.h5', errno = 2, error message = 'No such file or directory', flags = 0, o_flags = 0)",
     "output_type": "error",
     "traceback": [
      "\u001b[0;31m---------------------------------------------------------------------------\u001b[0m",
      "\u001b[0;31mFileNotFoundError\u001b[0m                         Traceback (most recent call last)",
      "Cell \u001b[0;32mIn[1], line 17\u001b[0m\n\u001b[1;32m     14\u001b[0m BATCH_SIZE \u001b[38;5;241m=\u001b[39m \u001b[38;5;241m32\u001b[39m\n\u001b[1;32m     16\u001b[0m \u001b[38;5;66;03m# Load trained model (ensure this path is correct after 2.0 notebook)\u001b[39;00m\n\u001b[0;32m---> 17\u001b[0m model \u001b[38;5;241m=\u001b[39m \u001b[43mload_model\u001b[49m\u001b[43m(\u001b[49m\u001b[38;5;124;43m'\u001b[39;49m\u001b[38;5;124;43mtrained_models/best_waste_classifier.h5\u001b[39;49m\u001b[38;5;124;43m'\u001b[39;49m\u001b[43m)\u001b[49m\n\u001b[1;32m     18\u001b[0m training_history_df \u001b[38;5;241m=\u001b[39m pd\u001b[38;5;241m.\u001b[39mread_csv(\u001b[38;5;124m'\u001b[39m\u001b[38;5;124mtrained_models/training_history.csv\u001b[39m\u001b[38;5;124m'\u001b[39m)\n\u001b[1;32m     20\u001b[0m \u001b[38;5;66;03m# Re-create test generator to ensure consistency with evaluations\u001b[39;00m\n",
      "File \u001b[0;32m/Library/Frameworks/Python.framework/Versions/3.12/lib/python3.12/site-packages/keras/src/saving/saving_api.py:196\u001b[0m, in \u001b[0;36mload_model\u001b[0;34m(filepath, custom_objects, compile, safe_mode)\u001b[0m\n\u001b[1;32m    189\u001b[0m     \u001b[38;5;28;01mreturn\u001b[39;00m saving_lib\u001b[38;5;241m.\u001b[39mload_model(\n\u001b[1;32m    190\u001b[0m         filepath,\n\u001b[1;32m    191\u001b[0m         custom_objects\u001b[38;5;241m=\u001b[39mcustom_objects,\n\u001b[1;32m    192\u001b[0m         \u001b[38;5;28mcompile\u001b[39m\u001b[38;5;241m=\u001b[39m\u001b[38;5;28mcompile\u001b[39m,\n\u001b[1;32m    193\u001b[0m         safe_mode\u001b[38;5;241m=\u001b[39msafe_mode,\n\u001b[1;32m    194\u001b[0m     )\n\u001b[1;32m    195\u001b[0m \u001b[38;5;28;01mif\u001b[39;00m \u001b[38;5;28mstr\u001b[39m(filepath)\u001b[38;5;241m.\u001b[39mendswith((\u001b[38;5;124m\"\u001b[39m\u001b[38;5;124m.h5\u001b[39m\u001b[38;5;124m\"\u001b[39m, \u001b[38;5;124m\"\u001b[39m\u001b[38;5;124m.hdf5\u001b[39m\u001b[38;5;124m\"\u001b[39m)):\n\u001b[0;32m--> 196\u001b[0m     \u001b[38;5;28;01mreturn\u001b[39;00m \u001b[43mlegacy_h5_format\u001b[49m\u001b[38;5;241;43m.\u001b[39;49m\u001b[43mload_model_from_hdf5\u001b[49m\u001b[43m(\u001b[49m\n\u001b[1;32m    197\u001b[0m \u001b[43m        \u001b[49m\u001b[43mfilepath\u001b[49m\u001b[43m,\u001b[49m\u001b[43m \u001b[49m\u001b[43mcustom_objects\u001b[49m\u001b[38;5;241;43m=\u001b[39;49m\u001b[43mcustom_objects\u001b[49m\u001b[43m,\u001b[49m\u001b[43m \u001b[49m\u001b[38;5;28;43mcompile\u001b[39;49m\u001b[38;5;241;43m=\u001b[39;49m\u001b[38;5;28;43mcompile\u001b[39;49m\n\u001b[1;32m    198\u001b[0m \u001b[43m    \u001b[49m\u001b[43m)\u001b[49m\n\u001b[1;32m    199\u001b[0m \u001b[38;5;28;01melif\u001b[39;00m \u001b[38;5;28mstr\u001b[39m(filepath)\u001b[38;5;241m.\u001b[39mendswith(\u001b[38;5;124m\"\u001b[39m\u001b[38;5;124m.keras\u001b[39m\u001b[38;5;124m\"\u001b[39m):\n\u001b[1;32m    200\u001b[0m     \u001b[38;5;28;01mraise\u001b[39;00m \u001b[38;5;167;01mValueError\u001b[39;00m(\n\u001b[1;32m    201\u001b[0m         \u001b[38;5;124mf\u001b[39m\u001b[38;5;124m\"\u001b[39m\u001b[38;5;124mFile not found: filepath=\u001b[39m\u001b[38;5;132;01m{\u001b[39;00mfilepath\u001b[38;5;132;01m}\u001b[39;00m\u001b[38;5;124m. \u001b[39m\u001b[38;5;124m\"\u001b[39m\n\u001b[1;32m    202\u001b[0m         \u001b[38;5;124m\"\u001b[39m\u001b[38;5;124mPlease ensure the file is an accessible `.keras` \u001b[39m\u001b[38;5;124m\"\u001b[39m\n\u001b[1;32m    203\u001b[0m         \u001b[38;5;124m\"\u001b[39m\u001b[38;5;124mzip file.\u001b[39m\u001b[38;5;124m\"\u001b[39m\n\u001b[1;32m    204\u001b[0m     )\n",
      "File \u001b[0;32m/Library/Frameworks/Python.framework/Versions/3.12/lib/python3.12/site-packages/keras/src/legacy/saving/legacy_h5_format.py:116\u001b[0m, in \u001b[0;36mload_model_from_hdf5\u001b[0;34m(filepath, custom_objects, compile)\u001b[0m\n\u001b[1;32m    114\u001b[0m opened_new_file \u001b[38;5;241m=\u001b[39m \u001b[38;5;129;01mnot\u001b[39;00m \u001b[38;5;28misinstance\u001b[39m(filepath, h5py\u001b[38;5;241m.\u001b[39mFile)\n\u001b[1;32m    115\u001b[0m \u001b[38;5;28;01mif\u001b[39;00m opened_new_file:\n\u001b[0;32m--> 116\u001b[0m     f \u001b[38;5;241m=\u001b[39m \u001b[43mh5py\u001b[49m\u001b[38;5;241;43m.\u001b[39;49m\u001b[43mFile\u001b[49m\u001b[43m(\u001b[49m\u001b[43mfilepath\u001b[49m\u001b[43m,\u001b[49m\u001b[43m \u001b[49m\u001b[43mmode\u001b[49m\u001b[38;5;241;43m=\u001b[39;49m\u001b[38;5;124;43m\"\u001b[39;49m\u001b[38;5;124;43mr\u001b[39;49m\u001b[38;5;124;43m\"\u001b[39;49m\u001b[43m)\u001b[49m\n\u001b[1;32m    117\u001b[0m \u001b[38;5;28;01melse\u001b[39;00m:\n\u001b[1;32m    118\u001b[0m     f \u001b[38;5;241m=\u001b[39m filepath\n",
      "File \u001b[0;32m/Library/Frameworks/Python.framework/Versions/3.12/lib/python3.12/site-packages/h5py/_hl/files.py:564\u001b[0m, in \u001b[0;36mFile.__init__\u001b[0;34m(self, name, mode, driver, libver, userblock_size, swmr, rdcc_nslots, rdcc_nbytes, rdcc_w0, track_order, fs_strategy, fs_persist, fs_threshold, fs_page_size, page_buf_size, min_meta_keep, min_raw_keep, locking, alignment_threshold, alignment_interval, meta_block_size, **kwds)\u001b[0m\n\u001b[1;32m    555\u001b[0m     fapl \u001b[38;5;241m=\u001b[39m make_fapl(driver, libver, rdcc_nslots, rdcc_nbytes, rdcc_w0,\n\u001b[1;32m    556\u001b[0m                      locking, page_buf_size, min_meta_keep, min_raw_keep,\n\u001b[1;32m    557\u001b[0m                      alignment_threshold\u001b[38;5;241m=\u001b[39malignment_threshold,\n\u001b[1;32m    558\u001b[0m                      alignment_interval\u001b[38;5;241m=\u001b[39malignment_interval,\n\u001b[1;32m    559\u001b[0m                      meta_block_size\u001b[38;5;241m=\u001b[39mmeta_block_size,\n\u001b[1;32m    560\u001b[0m                      \u001b[38;5;241m*\u001b[39m\u001b[38;5;241m*\u001b[39mkwds)\n\u001b[1;32m    561\u001b[0m     fcpl \u001b[38;5;241m=\u001b[39m make_fcpl(track_order\u001b[38;5;241m=\u001b[39mtrack_order, fs_strategy\u001b[38;5;241m=\u001b[39mfs_strategy,\n\u001b[1;32m    562\u001b[0m                      fs_persist\u001b[38;5;241m=\u001b[39mfs_persist, fs_threshold\u001b[38;5;241m=\u001b[39mfs_threshold,\n\u001b[1;32m    563\u001b[0m                      fs_page_size\u001b[38;5;241m=\u001b[39mfs_page_size)\n\u001b[0;32m--> 564\u001b[0m     fid \u001b[38;5;241m=\u001b[39m \u001b[43mmake_fid\u001b[49m\u001b[43m(\u001b[49m\u001b[43mname\u001b[49m\u001b[43m,\u001b[49m\u001b[43m \u001b[49m\u001b[43mmode\u001b[49m\u001b[43m,\u001b[49m\u001b[43m \u001b[49m\u001b[43muserblock_size\u001b[49m\u001b[43m,\u001b[49m\u001b[43m \u001b[49m\u001b[43mfapl\u001b[49m\u001b[43m,\u001b[49m\u001b[43m \u001b[49m\u001b[43mfcpl\u001b[49m\u001b[43m,\u001b[49m\u001b[43m \u001b[49m\u001b[43mswmr\u001b[49m\u001b[38;5;241;43m=\u001b[39;49m\u001b[43mswmr\u001b[49m\u001b[43m)\u001b[49m\n\u001b[1;32m    566\u001b[0m \u001b[38;5;28;01mif\u001b[39;00m \u001b[38;5;28misinstance\u001b[39m(libver, \u001b[38;5;28mtuple\u001b[39m):\n\u001b[1;32m    567\u001b[0m     \u001b[38;5;28mself\u001b[39m\u001b[38;5;241m.\u001b[39m_libver \u001b[38;5;241m=\u001b[39m libver\n",
      "File \u001b[0;32m/Library/Frameworks/Python.framework/Versions/3.12/lib/python3.12/site-packages/h5py/_hl/files.py:238\u001b[0m, in \u001b[0;36mmake_fid\u001b[0;34m(name, mode, userblock_size, fapl, fcpl, swmr)\u001b[0m\n\u001b[1;32m    236\u001b[0m     \u001b[38;5;28;01mif\u001b[39;00m swmr \u001b[38;5;129;01mand\u001b[39;00m swmr_support:\n\u001b[1;32m    237\u001b[0m         flags \u001b[38;5;241m|\u001b[39m\u001b[38;5;241m=\u001b[39m h5f\u001b[38;5;241m.\u001b[39mACC_SWMR_READ\n\u001b[0;32m--> 238\u001b[0m     fid \u001b[38;5;241m=\u001b[39m \u001b[43mh5f\u001b[49m\u001b[38;5;241;43m.\u001b[39;49m\u001b[43mopen\u001b[49m\u001b[43m(\u001b[49m\u001b[43mname\u001b[49m\u001b[43m,\u001b[49m\u001b[43m \u001b[49m\u001b[43mflags\u001b[49m\u001b[43m,\u001b[49m\u001b[43m \u001b[49m\u001b[43mfapl\u001b[49m\u001b[38;5;241;43m=\u001b[39;49m\u001b[43mfapl\u001b[49m\u001b[43m)\u001b[49m\n\u001b[1;32m    239\u001b[0m \u001b[38;5;28;01melif\u001b[39;00m mode \u001b[38;5;241m==\u001b[39m \u001b[38;5;124m'\u001b[39m\u001b[38;5;124mr+\u001b[39m\u001b[38;5;124m'\u001b[39m:\n\u001b[1;32m    240\u001b[0m     fid \u001b[38;5;241m=\u001b[39m h5f\u001b[38;5;241m.\u001b[39mopen(name, h5f\u001b[38;5;241m.\u001b[39mACC_RDWR, fapl\u001b[38;5;241m=\u001b[39mfapl)\n",
      "File \u001b[0;32mh5py/_objects.pyx:54\u001b[0m, in \u001b[0;36mh5py._objects.with_phil.wrapper\u001b[0;34m()\u001b[0m\n",
      "File \u001b[0;32mh5py/_objects.pyx:55\u001b[0m, in \u001b[0;36mh5py._objects.with_phil.wrapper\u001b[0;34m()\u001b[0m\n",
      "File \u001b[0;32mh5py/h5f.pyx:102\u001b[0m, in \u001b[0;36mh5py.h5f.open\u001b[0;34m()\u001b[0m\n",
      "\u001b[0;31mFileNotFoundError\u001b[0m: [Errno 2] Unable to synchronously open file (unable to open file: name = 'trained_models/best_waste_classifier.h5', errno = 2, error message = 'No such file or directory', flags = 0, o_flags = 0)"
     ]
    }
   ],
   "source": [
    "import pandas as pd\n",
    "import numpy as np\n",
    "import matplotlib.pyplot as plt\n",
    "import seaborn as sns\n",
    "from sklearn.metrics import classification_report, confusion_matrix\n",
    "from keras._tf_keras.keras.models import load_model\n",
    "from keras._tf_keras.keras.preprocessing.image import ImageDataGenerator\n",
    "import os\n",
    "\n",
    "# Load necessary data\n",
    "PROCESSED_DATA_DIR = 'data/processed'\n",
    "TEST_DIR = os.path.join(PROCESSED_DATA_DIR, 'test')\n",
    "IMG_SIZE = (224, 224)\n",
    "BATCH_SIZE = 32\n",
    "\n",
    "# Load trained model (ensure this path is correct after 2.0 notebook)\n",
    "model = load_model('trained_models/best_waste_classifier.h5')\n",
    "training_history_df = pd.read_csv('trained_models/training_history.csv')\n",
    "\n",
    "# Re-create test generator to ensure consistency with evaluations\n",
    "val_test_datagen = ImageDataGenerator(rescale=1./255)\n",
    "test_generator = val_test_datagen.flow_from_directory(\n",
    "    TEST_DIR,\n",
    "    target_size=IMG_SIZE,\n",
    "    batch_size=BATCH_SIZE,\n",
    "    class_mode='categorical',\n",
    "    shuffle=False\n",
    ")\n",
    "CLASS_NAMES = list(test_generator.class_indices.keys())"
   ]
  },
  {
   "cell_type": "markdown",
   "id": "d9396de6-902b-4a15-87bb-150760f6b1e8",
   "metadata": {},
   "source": [
    "Review Training History\n",
    "\n",
    "Re-plot training/validation accuracy and loss curves for quick reference and to confirm stability.\n",
    "Discuss signs of overfitting/underfitting, if any, and how they were (or could be) addressed."
   ]
  },
  {
   "cell_type": "code",
   "execution_count": null,
   "id": "e3c2bc1a-1f16-41d8-9f2f-c507ed6ac471",
   "metadata": {},
   "outputs": [],
   "source": [
    "plt.figure(figsize=(12, 5))\n",
    "plt.subplot(1, 2, 1)\n",
    "plt.plot(training_history_df['accuracy'], label='Train Accuracy')\n",
    "plt.plot(training_history_df['val_accuracy'], label='Validation Accuracy')\n",
    "plt.title('Training & Validation Accuracy')\n",
    "plt.xlabel('Epoch')\n",
    "plt.ylabel('Accuracy')\n",
    "plt.legend()\n",
    "\n",
    "plt.subplot(1, 2, 2)\n",
    "plt.plot(training_history_df['loss'], label='Train Loss')\n",
    "plt.plot(training_history_df['val_loss'], label='Validation Loss')\n",
    "plt.title('Training & Validation Loss')\n",
    "plt.xlabel('Epoch')\n",
    "plt.ylabel('Loss')\n",
    "plt.legend()\n",
    "plt.tight_layout()\n",
    "plt.show()"
   ]
  },
  {
   "cell_type": "markdown",
   "id": "0fffc09c-ac3b-4182-ba56-dcb5c6373997",
   "metadata": {},
   "source": [
    "Detailed Performance Metrics\n",
    "\n",
    "Recalculate and display the classification report and confusion matrix using the test set. These are foundational for deeper analysis.\n",
    "Discuss precision, recall, and F1-score per class in detail. What do these metrics tell you about the model's behavior for specific waste types?"
   ]
  },
  {
   "cell_type": "code",
   "execution_count": null,
   "id": "8828d148-3ef9-46e3-a4f2-c0d7cad3fed8",
   "metadata": {},
   "outputs": [],
   "source": [
    "# Ensure generator is reset and get predictions\n",
    "test_generator.reset()\n",
    "y_pred_probs = model.predict(test_generator)\n",
    "y_pred_classes = np.argmax(y_pred_probs, axis=1)\n",
    "y_true_classes = test_generator.classes\n",
    "\n",
    "print(\"Classification Report:\")\n",
    "report = classification_report(y_true_classes, y_pred_classes, target_names=CLASS_NAMES, output_dict=True)\n",
    "report_df = pd.DataFrame(report).transpose()\n",
    "print(report_df)\n",
    "\n",
    "cm = confusion_matrix(y_true_classes, y_pred_classes)\n",
    "plt.figure(figsize=(10, 8))\n",
    "sns.heatmap(cm, annot=True, fmt='d', cmap='Blues', xticklabels=CLASS_NAMES, yticklabels=CLASS_NAMES)\n",
    "plt.title('Confusion Matrix')\n",
    "plt.xlabel('Predicted Label')\n",
    "plt.ylabel('True Label')\n",
    "plt.show()"
   ]
  },
  {
   "cell_type": "markdown",
   "id": "f42020e1-099c-4841-b3f0-371bf6d24b54",
   "metadata": {},
   "source": [
    "Misclassification Analysis\n",
    "\n",
    "Identify the most confused classes: From the confusion matrix, pinpoint pairs of classes that are frequently misclassified (e.g., metal often predicted as plastic, or vice-versa).\n",
    "Visualize misclassified examples: Show images where the model made errors. This helps to understand why it made mistakes (e.g., poor image quality, similar appearance, background noise).\n",
    "Confidence analysis: Look at the prediction probabilities for misclassified items. Did the model make a confident wrong prediction or was it uncertain?"
   ]
  },
  {
   "cell_type": "code",
   "execution_count": null,
   "id": "bb09dadf-98cd-4da9-b77a-471906424493",
   "metadata": {},
   "outputs": [],
   "source": [
    "# Get misclassified indices\n",
    "misclassified_indices = np.where(y_true_classes != y_pred_classes)[0]\n",
    "\n",
    "if len(misclassified_indices) > 0:\n",
    "    print(\"\\nAnalyzing Misclassified Images:\")\n",
    "    plt.figure(figsize=(15, 12))\n",
    "    for i, idx in enumerate(misclassified_indices[:15]): # Show up to 15 misclassified images\n",
    "        img_path = test_generator.filepaths[idx]\n",
    "        true_label = CLASS_NAMES[y_true_classes[idx]]\n",
    "        predicted_label = CLASS_NAMES[y_pred_classes[idx]]\n",
    "        confidence = y_pred_probs[idx][y_pred_classes[idx]] * 100 # Confidence of predicted class\n",
    "\n",
    "        img = plt.imread(img_path)\n",
    "        plt.subplot(3, 5, i + 1) # Adjust subplot grid based on number of images to show\n",
    "        plt.imshow(img)\n",
    "        plt.title(f\"True: {true_label}\\nPred: {predicted_label} ({confidence:.1f}%)\",\n",
    "                  color='red' if true_label != predicted_label else 'green', fontsize=10)\n",
    "        plt.axis('off')\n",
    "    plt.tight_layout()\n",
    "    plt.show()\n",
    "\n",
    "    # You can also filter for specific confused pairs\n",
    "    # For example, to see cardboard misclassified as paper\n",
    "    cardboard_as_paper_indices = [\n",
    "        i for i in misclassified_indices\n",
    "        if CLASS_NAMES[y_true_classes[i]] == 'cardboard' and CLASS_NAMES[y_pred_classes[i]] == 'paper'\n",
    "    ]\n",
    "    # Display these specific misclassifications as well"
   ]
  },
  {
   "cell_type": "markdown",
   "id": "cbe11a7f-b2dc-4f17-8608-18e321717b84",
   "metadata": {},
   "source": [
    "Data Insights & Actionable Recommendations\n",
    "\n",
    "Impact of class imbalance: If you found an imbalance in Notebook 1.0, discuss how it might affect per-class performance (e.g., lower recall for minority classes). Suggest strategies (data augmentation, weighted loss, over/undersampling).\n",
    "Dataset Limitations: Based on misclassifications, identify limitations of the current dataset (e.g., lack of diverse lighting, occlusions, too many similar backgrounds).\n",
    "Potential Improvements:\n",
    "Data Augmentation: Which augmentations might specifically help with identified issues?\n",
    "Model Architecture: Could a different pre-trained model or fine-tuning strategy improve things?\n",
    "Preprocessing: Any further steps (e.g., background removal, stronger contrast enhancement) that could help?\n",
    "Error Correction: For a real-world system, how would these errors be handled? (e.g., human review for uncertain predictions).\n",
    "Real-world implications: How do these insights translate to the actual deployment of an automated waste sorting system?"
   ]
  },
  {
   "cell_type": "code",
   "execution_count": null,
   "id": "ccc7f8f0-34d5-4b53-b3f2-1459e1e340e1",
   "metadata": {},
   "outputs": [],
   "source": [
    "print(\"\\nActionable Insights & Recommendations:\")\n",
    "print(\"- **Class Imbalance:** While TrashNet is relatively balanced, consider how imbalances in real-world data might impact sorting efficiency. Strategies like data augmentation tailored to underrepresented classes or weighted loss functions during training can mitigate this.\")\n",
    "print(\"- **Visual Ambiguity:** The confusion between 'metal' and 'trash' or 'paper' and 'cardboard' suggests visual ambiguity. Incorporating multi-modal data (e.g., weight, material properties) or more advanced image processing to highlight textures/shapes could improve this.\")\n",
    "print(\"- **Robustness to Conditions:** The model's difficulty with poor lighting or occlusions indicates a need for more diverse training data that simulates real-world collection environments. Augmenting with various lighting conditions or even synthetic data could be beneficial.\")\n",
    "print(\"- **Continuous Learning:** In a deployed system, a feedback loop where misclassified items are reviewed and added to the training data can lead to continuous improvement.\")"
   ]
  },
  {
   "cell_type": "markdown",
   "id": "66af35da-a407-48c8-9596-40fcf5ca2f87",
   "metadata": {},
   "source": [
    "Conclusion & Next Steps\n",
    "\n",
    "Summarize the key insights gained from the analysis.\n",
    "Outline concrete next steps or future work based on these insights, connecting back to the README.md's \"Future Work\" section."
   ]
  },
  {
   "cell_type": "code",
   "execution_count": null,
   "id": "9cf097df-b607-4228-b9cb-4a0f5960792b",
   "metadata": {},
   "outputs": [],
   "source": []
  }
 ],
 "metadata": {
  "kernelspec": {
   "display_name": "Python 3 (ipykernel)",
   "language": "python",
   "name": "python3"
  },
  "language_info": {
   "codemirror_mode": {
    "name": "ipython",
    "version": 3
   },
   "file_extension": ".py",
   "mimetype": "text/x-python",
   "name": "python",
   "nbconvert_exporter": "python",
   "pygments_lexer": "ipython3",
   "version": "3.12.3"
  }
 },
 "nbformat": 4,
 "nbformat_minor": 5
}
